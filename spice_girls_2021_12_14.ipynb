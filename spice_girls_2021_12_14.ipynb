{
 "cells": [
  {
   "cell_type": "markdown",
   "metadata": {},
   "source": [
    "## Tidy Tuesday 2021-12-14\n",
    "\n",
    "**Spice Girls**  \n",
    "  \n",
    "The purpose is to do EDA on the data set.  \n",
    "  \n",
    "Source: [Tidytuesday repo](https://github.com/rfordatascience/tidytuesday/tree/master/data/2021/2021-12-14)  \n",
    "  \n",
    "* `studio_album_tracks`: Audio features of each song from the three studio albums by the Spice Girls. From Spotify.\n",
    "* `related artists`: Artists deemed to be similar to the Spice Girls, with info about each artist including their musical genres and follower numbers. Includes a row with details for the Spice Girls, for comparison purposes. From Spotify.\n",
    "* `lyrics`: Lyrics of each song from the three studio albums by the Spice Girls. From Genius."
   ]
  },
  {
   "cell_type": "code",
   "execution_count": 1,
   "metadata": {},
   "outputs": [],
   "source": [
    "# data\n",
    "path1 = \"https://github.com/jacquietran/spice_girls_data/raw/main/data/studio_album_tracks.csv\"\n",
    "path2 = \"https://github.com/jacquietran/spice_girls_data/raw/main/data/related_artists.csv\"\n",
    "path3 = \"https://github.com/jacquietran/spice_girls_data/raw/main/data/lyrics.csv\""
   ]
  },
  {
   "cell_type": "code",
   "execution_count": null,
   "metadata": {},
   "outputs": [],
   "source": []
  }
 ],
 "metadata": {
  "kernelspec": {
   "display_name": "Python 3",
   "language": "python",
   "name": "python3"
  },
  "language_info": {
   "codemirror_mode": {
    "name": "ipython",
    "version": 3
   },
   "file_extension": ".py",
   "mimetype": "text/x-python",
   "name": "python",
   "nbconvert_exporter": "python",
   "pygments_lexer": "ipython3",
   "version": "3.8.5"
  }
 },
 "nbformat": 4,
 "nbformat_minor": 4
}
