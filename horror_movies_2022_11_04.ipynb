{
 "cells": [
  {
   "cell_type": "markdown",
   "metadata": {},
   "source": [
    "### Tidy Tuesday data  \n",
    "Week: 2022-11-01  \n",
    "  \n",
    "Dataset about horror movies."
   ]
  },
  {
   "cell_type": "code",
   "execution_count": 1,
   "metadata": {},
   "outputs": [
    {
     "name": "stdout",
     "output_type": "stream",
     "text": [
      "<class 'pandas.core.frame.DataFrame'>\n",
      "RangeIndex: 32540 entries, 0 to 32539\n",
      "Data columns (total 20 columns):\n",
      " #   Column             Non-Null Count  Dtype  \n",
      "---  ------             --------------  -----  \n",
      " 0   id                 32540 non-null  int64  \n",
      " 1   original_title     32540 non-null  object \n",
      " 2   title              32540 non-null  object \n",
      " 3   original_language  32540 non-null  object \n",
      " 4   overview           31254 non-null  object \n",
      " 5   tagline            12707 non-null  object \n",
      " 6   release_date       32540 non-null  object \n",
      " 7   poster_path        28066 non-null  object \n",
      " 8   popularity         32540 non-null  float64\n",
      " 9   vote_count         32540 non-null  int64  \n",
      " 10  vote_average       32540 non-null  float64\n",
      " 11  budget             32540 non-null  int64  \n",
      " 12  revenue            32540 non-null  int64  \n",
      " 13  runtime            32540 non-null  int64  \n",
      " 14  status             32540 non-null  object \n",
      " 15  adult              32540 non-null  bool   \n",
      " 16  backdrop_path      13545 non-null  object \n",
      " 17  genre_names        32540 non-null  object \n",
      " 18  collection         2306 non-null   float64\n",
      " 19  collection_name    2306 non-null   object \n",
      "dtypes: bool(1), float64(3), int64(5), object(11)\n",
      "memory usage: 4.7+ MB\n"
     ]
    }
   ],
   "source": [
    "import numpy as np\n",
    "import pandas as pd\n",
    "\n",
    "# import data from github\n",
    "url = \"https://raw.githubusercontent.com/rfordatascience/tidytuesday/master/data/2022/2022-11-01/horror_movies.csv\"\n",
    "\n",
    "df = pd.read_csv(url)\n",
    "df.info()"
   ]
  },
  {
   "cell_type": "code",
   "execution_count": 2,
   "metadata": {},
   "outputs": [
    {
     "data": {
      "text/html": [
       "<div>\n",
       "<style scoped>\n",
       "    .dataframe tbody tr th:only-of-type {\n",
       "        vertical-align: middle;\n",
       "    }\n",
       "\n",
       "    .dataframe tbody tr th {\n",
       "        vertical-align: top;\n",
       "    }\n",
       "\n",
       "    .dataframe thead th {\n",
       "        text-align: right;\n",
       "    }\n",
       "</style>\n",
       "<table border=\"1\" class=\"dataframe\">\n",
       "  <thead>\n",
       "    <tr style=\"text-align: right;\">\n",
       "      <th></th>\n",
       "      <th>id</th>\n",
       "      <th>original_title</th>\n",
       "      <th>title</th>\n",
       "      <th>original_language</th>\n",
       "      <th>overview</th>\n",
       "      <th>tagline</th>\n",
       "      <th>release_date</th>\n",
       "      <th>poster_path</th>\n",
       "      <th>popularity</th>\n",
       "      <th>vote_count</th>\n",
       "      <th>vote_average</th>\n",
       "      <th>budget</th>\n",
       "      <th>revenue</th>\n",
       "      <th>runtime</th>\n",
       "      <th>status</th>\n",
       "      <th>adult</th>\n",
       "      <th>backdrop_path</th>\n",
       "      <th>genre_names</th>\n",
       "      <th>collection</th>\n",
       "      <th>collection_name</th>\n",
       "    </tr>\n",
       "  </thead>\n",
       "  <tbody>\n",
       "    <tr>\n",
       "      <th>0</th>\n",
       "      <td>760161</td>\n",
       "      <td>Orphan: First Kill</td>\n",
       "      <td>Orphan: First Kill</td>\n",
       "      <td>en</td>\n",
       "      <td>After escaping from an Estonian psychiatric fa...</td>\n",
       "      <td>There's always been something wrong with Esther.</td>\n",
       "      <td>2022-07-27</td>\n",
       "      <td>/pHkKbIRoCe7zIFvqan9LFSaQAde.jpg</td>\n",
       "      <td>5088.584</td>\n",
       "      <td>902</td>\n",
       "      <td>6.9</td>\n",
       "      <td>0</td>\n",
       "      <td>9572765</td>\n",
       "      <td>99</td>\n",
       "      <td>Released</td>\n",
       "      <td>False</td>\n",
       "      <td>/5GA3vV1aWWHTSDO5eno8V5zDo8r.jpg</td>\n",
       "      <td>Horror, Thriller</td>\n",
       "      <td>760193.0</td>\n",
       "      <td>Orphan Collection</td>\n",
       "    </tr>\n",
       "    <tr>\n",
       "      <th>1</th>\n",
       "      <td>760741</td>\n",
       "      <td>Beast</td>\n",
       "      <td>Beast</td>\n",
       "      <td>en</td>\n",
       "      <td>A recently widowed man and his two teenage dau...</td>\n",
       "      <td>Fight for family.</td>\n",
       "      <td>2022-08-11</td>\n",
       "      <td>/xIGr7UHsKf0URWmyyd5qFMAq4d8.jpg</td>\n",
       "      <td>2172.338</td>\n",
       "      <td>584</td>\n",
       "      <td>7.1</td>\n",
       "      <td>0</td>\n",
       "      <td>56000000</td>\n",
       "      <td>93</td>\n",
       "      <td>Released</td>\n",
       "      <td>False</td>\n",
       "      <td>/2k9tBql5GYH328Krj66tDT9LtFZ.jpg</td>\n",
       "      <td>Adventure, Drama, Horror</td>\n",
       "      <td>NaN</td>\n",
       "      <td>NaN</td>\n",
       "    </tr>\n",
       "    <tr>\n",
       "      <th>2</th>\n",
       "      <td>882598</td>\n",
       "      <td>Smile</td>\n",
       "      <td>Smile</td>\n",
       "      <td>en</td>\n",
       "      <td>After witnessing a bizarre, traumatic incident...</td>\n",
       "      <td>Once you see it, it’s too late.</td>\n",
       "      <td>2022-09-23</td>\n",
       "      <td>/hiaeZKzwsk4y4atFhmncO5KRxeT.jpg</td>\n",
       "      <td>1863.628</td>\n",
       "      <td>114</td>\n",
       "      <td>6.8</td>\n",
       "      <td>17000000</td>\n",
       "      <td>45000000</td>\n",
       "      <td>115</td>\n",
       "      <td>Released</td>\n",
       "      <td>False</td>\n",
       "      <td>/mVNPfpydornVe4H4UCIk7WevWjf.jpg</td>\n",
       "      <td>Horror, Mystery, Thriller</td>\n",
       "      <td>NaN</td>\n",
       "      <td>NaN</td>\n",
       "    </tr>\n",
       "    <tr>\n",
       "      <th>3</th>\n",
       "      <td>756999</td>\n",
       "      <td>The Black Phone</td>\n",
       "      <td>The Black Phone</td>\n",
       "      <td>en</td>\n",
       "      <td>Finney Blake, a shy but clever 13-year-old boy...</td>\n",
       "      <td>Never talk to strangers.</td>\n",
       "      <td>2022-06-22</td>\n",
       "      <td>/lr11mCT85T1JanlgjMuhs9nMht4.jpg</td>\n",
       "      <td>1071.398</td>\n",
       "      <td>2736</td>\n",
       "      <td>7.9</td>\n",
       "      <td>18800000</td>\n",
       "      <td>161000000</td>\n",
       "      <td>103</td>\n",
       "      <td>Released</td>\n",
       "      <td>False</td>\n",
       "      <td>/AfvIjhDu9p64jKcmohS4hsPG95Q.jpg</td>\n",
       "      <td>Horror, Thriller</td>\n",
       "      <td>NaN</td>\n",
       "      <td>NaN</td>\n",
       "    </tr>\n",
       "    <tr>\n",
       "      <th>4</th>\n",
       "      <td>772450</td>\n",
       "      <td>Presencias</td>\n",
       "      <td>Presences</td>\n",
       "      <td>es</td>\n",
       "      <td>A man who loses his wife and goes to seclude h...</td>\n",
       "      <td>NaN</td>\n",
       "      <td>2022-09-07</td>\n",
       "      <td>/dgDT3uol3mdvwEg0jt1ble3l9hw.jpg</td>\n",
       "      <td>1020.995</td>\n",
       "      <td>83</td>\n",
       "      <td>7.0</td>\n",
       "      <td>0</td>\n",
       "      <td>0</td>\n",
       "      <td>0</td>\n",
       "      <td>Released</td>\n",
       "      <td>False</td>\n",
       "      <td>/ojfzhdwRemcDt1I6pao6vVLw9AA.jpg</td>\n",
       "      <td>Horror</td>\n",
       "      <td>NaN</td>\n",
       "      <td>NaN</td>\n",
       "    </tr>\n",
       "  </tbody>\n",
       "</table>\n",
       "</div>"
      ],
      "text/plain": [
       "       id      original_title               title original_language  \\\n",
       "0  760161  Orphan: First Kill  Orphan: First Kill                en   \n",
       "1  760741               Beast               Beast                en   \n",
       "2  882598               Smile               Smile                en   \n",
       "3  756999     The Black Phone     The Black Phone                en   \n",
       "4  772450          Presencias           Presences                es   \n",
       "\n",
       "                                            overview  \\\n",
       "0  After escaping from an Estonian psychiatric fa...   \n",
       "1  A recently widowed man and his two teenage dau...   \n",
       "2  After witnessing a bizarre, traumatic incident...   \n",
       "3  Finney Blake, a shy but clever 13-year-old boy...   \n",
       "4  A man who loses his wife and goes to seclude h...   \n",
       "\n",
       "                                            tagline release_date  \\\n",
       "0  There's always been something wrong with Esther.   2022-07-27   \n",
       "1                                 Fight for family.   2022-08-11   \n",
       "2                   Once you see it, it’s too late.   2022-09-23   \n",
       "3                          Never talk to strangers.   2022-06-22   \n",
       "4                                               NaN   2022-09-07   \n",
       "\n",
       "                        poster_path  popularity  vote_count  vote_average  \\\n",
       "0  /pHkKbIRoCe7zIFvqan9LFSaQAde.jpg    5088.584         902           6.9   \n",
       "1  /xIGr7UHsKf0URWmyyd5qFMAq4d8.jpg    2172.338         584           7.1   \n",
       "2  /hiaeZKzwsk4y4atFhmncO5KRxeT.jpg    1863.628         114           6.8   \n",
       "3  /lr11mCT85T1JanlgjMuhs9nMht4.jpg    1071.398        2736           7.9   \n",
       "4  /dgDT3uol3mdvwEg0jt1ble3l9hw.jpg    1020.995          83           7.0   \n",
       "\n",
       "     budget    revenue  runtime    status  adult  \\\n",
       "0         0    9572765       99  Released  False   \n",
       "1         0   56000000       93  Released  False   \n",
       "2  17000000   45000000      115  Released  False   \n",
       "3  18800000  161000000      103  Released  False   \n",
       "4         0          0        0  Released  False   \n",
       "\n",
       "                      backdrop_path                genre_names  collection  \\\n",
       "0  /5GA3vV1aWWHTSDO5eno8V5zDo8r.jpg           Horror, Thriller    760193.0   \n",
       "1  /2k9tBql5GYH328Krj66tDT9LtFZ.jpg   Adventure, Drama, Horror         NaN   \n",
       "2  /mVNPfpydornVe4H4UCIk7WevWjf.jpg  Horror, Mystery, Thriller         NaN   \n",
       "3  /AfvIjhDu9p64jKcmohS4hsPG95Q.jpg           Horror, Thriller         NaN   \n",
       "4  /ojfzhdwRemcDt1I6pao6vVLw9AA.jpg                     Horror         NaN   \n",
       "\n",
       "     collection_name  \n",
       "0  Orphan Collection  \n",
       "1                NaN  \n",
       "2                NaN  \n",
       "3                NaN  \n",
       "4                NaN  "
      ]
     },
     "execution_count": 2,
     "metadata": {},
     "output_type": "execute_result"
    }
   ],
   "source": [
    "df.head()"
   ]
  },
  {
   "cell_type": "code",
   "execution_count": 3,
   "metadata": {},
   "outputs": [
    {
     "data": {
      "text/html": [
       "<div>\n",
       "<style scoped>\n",
       "    .dataframe tbody tr th:only-of-type {\n",
       "        vertical-align: middle;\n",
       "    }\n",
       "\n",
       "    .dataframe tbody tr th {\n",
       "        vertical-align: top;\n",
       "    }\n",
       "\n",
       "    .dataframe thead th {\n",
       "        text-align: right;\n",
       "    }\n",
       "</style>\n",
       "<table border=\"1\" class=\"dataframe\">\n",
       "  <thead>\n",
       "    <tr style=\"text-align: right;\">\n",
       "      <th></th>\n",
       "      <th>id</th>\n",
       "      <th>popularity</th>\n",
       "      <th>vote_count</th>\n",
       "      <th>vote_average</th>\n",
       "      <th>budget</th>\n",
       "      <th>revenue</th>\n",
       "      <th>runtime</th>\n",
       "      <th>collection</th>\n",
       "    </tr>\n",
       "  </thead>\n",
       "  <tbody>\n",
       "    <tr>\n",
       "      <th>count</th>\n",
       "      <td>3.254000e+04</td>\n",
       "      <td>32540.000000</td>\n",
       "      <td>32540.000000</td>\n",
       "      <td>32540.000000</td>\n",
       "      <td>3.254000e+04</td>\n",
       "      <td>3.254000e+04</td>\n",
       "      <td>32540.000000</td>\n",
       "      <td>2.306000e+03</td>\n",
       "    </tr>\n",
       "    <tr>\n",
       "      <th>mean</th>\n",
       "      <td>4.459108e+05</td>\n",
       "      <td>4.013456</td>\n",
       "      <td>62.691487</td>\n",
       "      <td>3.335728</td>\n",
       "      <td>5.431266e+05</td>\n",
       "      <td>1.349747e+06</td>\n",
       "      <td>62.142901</td>\n",
       "      <td>4.815349e+05</td>\n",
       "    </tr>\n",
       "    <tr>\n",
       "      <th>std</th>\n",
       "      <td>3.057447e+05</td>\n",
       "      <td>37.513472</td>\n",
       "      <td>420.887474</td>\n",
       "      <td>2.876002</td>\n",
       "      <td>4.542668e+06</td>\n",
       "      <td>1.443048e+07</td>\n",
       "      <td>40.998527</td>\n",
       "      <td>3.244982e+05</td>\n",
       "    </tr>\n",
       "    <tr>\n",
       "      <th>min</th>\n",
       "      <td>1.700000e+01</td>\n",
       "      <td>0.000000</td>\n",
       "      <td>0.000000</td>\n",
       "      <td>0.000000</td>\n",
       "      <td>0.000000e+00</td>\n",
       "      <td>0.000000e+00</td>\n",
       "      <td>0.000000</td>\n",
       "      <td>6.560000e+02</td>\n",
       "    </tr>\n",
       "    <tr>\n",
       "      <th>25%</th>\n",
       "      <td>1.464948e+05</td>\n",
       "      <td>0.600000</td>\n",
       "      <td>0.000000</td>\n",
       "      <td>0.000000</td>\n",
       "      <td>0.000000e+00</td>\n",
       "      <td>0.000000e+00</td>\n",
       "      <td>14.000000</td>\n",
       "      <td>1.554210e+05</td>\n",
       "    </tr>\n",
       "    <tr>\n",
       "      <th>50%</th>\n",
       "      <td>4.265210e+05</td>\n",
       "      <td>0.840000</td>\n",
       "      <td>2.000000</td>\n",
       "      <td>4.000000</td>\n",
       "      <td>0.000000e+00</td>\n",
       "      <td>0.000000e+00</td>\n",
       "      <td>80.000000</td>\n",
       "      <td>4.712590e+05</td>\n",
       "    </tr>\n",
       "    <tr>\n",
       "      <th>75%</th>\n",
       "      <td>7.075340e+05</td>\n",
       "      <td>2.243250</td>\n",
       "      <td>11.000000</td>\n",
       "      <td>5.700000</td>\n",
       "      <td>0.000000e+00</td>\n",
       "      <td>0.000000e+00</td>\n",
       "      <td>91.000000</td>\n",
       "      <td>7.590672e+05</td>\n",
       "    </tr>\n",
       "    <tr>\n",
       "      <th>max</th>\n",
       "      <td>1.033095e+06</td>\n",
       "      <td>5088.584000</td>\n",
       "      <td>16900.000000</td>\n",
       "      <td>10.000000</td>\n",
       "      <td>2.000000e+08</td>\n",
       "      <td>7.018426e+08</td>\n",
       "      <td>683.000000</td>\n",
       "      <td>1.033032e+06</td>\n",
       "    </tr>\n",
       "  </tbody>\n",
       "</table>\n",
       "</div>"
      ],
      "text/plain": [
       "                 id    popularity    vote_count  vote_average        budget  \\\n",
       "count  3.254000e+04  32540.000000  32540.000000  32540.000000  3.254000e+04   \n",
       "mean   4.459108e+05      4.013456     62.691487      3.335728  5.431266e+05   \n",
       "std    3.057447e+05     37.513472    420.887474      2.876002  4.542668e+06   \n",
       "min    1.700000e+01      0.000000      0.000000      0.000000  0.000000e+00   \n",
       "25%    1.464948e+05      0.600000      0.000000      0.000000  0.000000e+00   \n",
       "50%    4.265210e+05      0.840000      2.000000      4.000000  0.000000e+00   \n",
       "75%    7.075340e+05      2.243250     11.000000      5.700000  0.000000e+00   \n",
       "max    1.033095e+06   5088.584000  16900.000000     10.000000  2.000000e+08   \n",
       "\n",
       "            revenue       runtime    collection  \n",
       "count  3.254000e+04  32540.000000  2.306000e+03  \n",
       "mean   1.349747e+06     62.142901  4.815349e+05  \n",
       "std    1.443048e+07     40.998527  3.244982e+05  \n",
       "min    0.000000e+00      0.000000  6.560000e+02  \n",
       "25%    0.000000e+00     14.000000  1.554210e+05  \n",
       "50%    0.000000e+00     80.000000  4.712590e+05  \n",
       "75%    0.000000e+00     91.000000  7.590672e+05  \n",
       "max    7.018426e+08    683.000000  1.033032e+06  "
      ]
     },
     "execution_count": 3,
     "metadata": {},
     "output_type": "execute_result"
    }
   ],
   "source": [
    "df.describe()"
   ]
  },
  {
   "cell_type": "code",
   "execution_count": 5,
   "metadata": {},
   "outputs": [],
   "source": [
    "# Data Exploration Analysis\n",
    "import matplotlib.pyplot as plt"
   ]
  },
  {
   "cell_type": "code",
   "execution_count": 29,
   "metadata": {},
   "outputs": [
    {
     "data": {
      "image/png": "[encoded data removed]",
      "text/plain": [
       "<Figure size 432x288 with 1 Axes>"
      ]
     },
     "metadata": {
      "needs_background": "light"
     },
     "output_type": "display_data"
    },
    {
     "name": "stdout",
     "output_type": "stream",
     "text": [
      "id min value: 17, max value: 1033095\n",
      "\n"
     ]
    },
    {
     "data": {
      "image/png": "[encoded data removed]",
      "text/plain": [
       "<Figure size 432x288 with 1 Axes>"
      ]
     },
     "metadata": {
      "needs_background": "light"
     },
     "output_type": "display_data"
    },
    {
     "name": "stdout",
     "output_type": "stream",
     "text": [
      "popularity min value: 0.0, max value: 5088.584\n",
      "\n"
     ]
    },
    {
     "data": {
      "image/png": "[encoded data removed]",
      "text/plain": [
       "<Figure size 432x288 with 1 Axes>"
      ]
     },
     "metadata": {
      "needs_background": "light"
     },
     "output_type": "display_data"
    },
    {
     "name": "stdout",
     "output_type": "stream",
     "text": [
      "vote_count min value: 0, max value: 16900\n",
      "\n"
     ]
    },
    {
     "data": {
      "image/png": "[encoded data removed]",
      "text/plain": [
       "<Figure size 432x288 with 1 Axes>"
      ]
     },
     "metadata": {
      "needs_background": "light"
     },
     "output_type": "display_data"
    },
    {
     "name": "stdout",
     "output_type": "stream",
     "text": [
      "vote_average min value: 0.0, max value: 10.0\n",
      "\n"
     ]
    },
    {
     "data": {
      "image/png": "[encoded data removed]",
      "text/plain": [
       "<Figure size 432x288 with 1 Axes>"
      ]
     },
     "metadata": {
      "needs_background": "light"
     },
     "output_type": "display_data"
    },
    {
     "name": "stdout",
     "output_type": "stream",
     "text": [
      "budget min value: 0, max value: 200000000\n",
      "\n"
     ]
    },
    {
     "data": {
      "image/png": "[encoded data removed]",
      "text/plain": [
       "<Figure size 432x288 with 1 Axes>"
      ]
     },
     "metadata": {
      "needs_background": "light"
     },
     "output_type": "display_data"
    },
    {
     "name": "stdout",
     "output_type": "stream",
     "text": [
      "revenue min value: 0, max value: 701842551\n",
      "\n"
     ]
    },
    {
     "data": {
      "image/png": "[encoded data removed]",
      "text/plain": [
       "<Figure size 432x288 with 1 Axes>"
      ]
     },
     "metadata": {
      "needs_background": "light"
     },
     "output_type": "display_data"
    },
    {
     "name": "stdout",
     "output_type": "stream",
     "text": [
      "runtime min value: 0, max value: 683\n",
      "\n"
     ]
    },
    {
     "data": {
      "image/png": "[encoded data removed]",
      "text/plain": [
       "<Figure size 432x288 with 1 Axes>"
      ]
     },
     "metadata": {
      "needs_background": "light"
     },
     "output_type": "display_data"
    },
    {
     "name": "stdout",
     "output_type": "stream",
     "text": [
      "collection min value: 656.0, max value: 1033032.0\n",
      "\n"
     ]
    }
   ],
   "source": [
    "# Create function to plot of numerical column in dataframe\n",
    "import numpy as np\n",
    "\n",
    "def create_plot(df):\n",
    "    plt.hist(df2.vote_average)\n",
    "    plt.show()\n",
    "\n",
    "# select all numerical columns only in df and apply\n",
    "df_num = df.select_dtypes(include=np.number)\n",
    "\n",
    "# apply plot to all columns\n",
    "for col in df_num:\n",
    "    #if df[col].dtype == column_datatype:\n",
    "    plt.hist(df_num[col])\n",
    "    plt.title(col)\n",
    "    plt.show()\n",
    "    print(f\"{col} min value: {df_num[col].min()}, max value: {df_num[col].max()}\\n\")\n",
    "    #else:\n",
    "    #    continue"
   ]
  }
 ],
 "metadata": {
  "kernelspec": {
   "display_name": "Python 3.8.5",
   "language": "python",
   "name": "python3"
  },
  "language_info": {
   "codemirror_mode": {
    "name": "ipython",
    "version": 3
   },
   "file_extension": ".py",
   "mimetype": "text/x-python",
   "name": "python",
   "nbconvert_exporter": "python",
   "pygments_lexer": "ipython3",
   "version": "3.8.5"
  },
  "orig_nbformat": 4,
  "vscode": {
   "interpreter": {
    "hash": "a7efeda51ab66cbc0f4c54a7d4464d7301853633942c4395c7ec7c64649ddfc5"
   }
  }
 },
 "nbformat": 4,
 "nbformat_minor": 2
}
